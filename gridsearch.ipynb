{
 "cells": [
  {
   "cell_type": "markdown",
   "metadata": {},
   "source": [
    "# Utilizando GridSearch com o dataset Pima Indians Diabetes"
   ]
  },
  {
   "cell_type": "code",
   "execution_count": 1,
   "metadata": {},
   "outputs": [],
   "source": [
    "# Forçando o Keras a utilizar a CPU\n",
    "import os\n",
    "os.environ[\"CUDA_DEVICE_ORDER\"] = \"PCI_BUS_ID\"  \n",
    "os.environ[\"CUDA_VISIBLE_DEVICES\"] = \"\""
   ]
  },
  {
   "cell_type": "code",
   "execution_count": 2,
   "metadata": {},
   "outputs": [],
   "source": [
    "# Importa as libs\n",
    "import tensorflow as tf\n",
    "import numpy as np\n",
    "import keras\n",
    "from keras.models import Sequential\n",
    "from keras.layers import Dense, Activation\n",
    "from keras.wrappers.scikit_learn import KerasClassifier\n",
    "from sklearn.model_selection import GridSearchCV"
   ]
  },
  {
   "cell_type": "code",
   "execution_count": 3,
   "metadata": {},
   "outputs": [],
   "source": [
    "# Definindo o modelo\n",
    "def criar_model():\n",
    "    model = Sequential()\n",
    "    model.add(Dense(input_dim = 8, units = 12, kernel_initializer = 'normal', activation = 'relu'))\n",
    "    model.add(Dense(1, activation = 'sigmoid'))\n",
    "    \n",
    "    model.compile(loss = 'binary_crossentropy',\n",
    "                  optimizer = 'adam',\n",
    "                  metrics = ['accuracy'])\n",
    "    \n",
    "    return model    "
   ]
  },
  {
   "cell_type": "code",
   "execution_count": 4,
   "metadata": {},
   "outputs": [],
   "source": [
    "# Carregando o datast \n",
    "dataset = np.loadtxt(\"data/pima-indians-diabetes.csv\", delimiter=\",\")"
   ]
  },
  {
   "cell_type": "code",
   "execution_count": 5,
   "metadata": {},
   "outputs": [
    {
     "name": "stdout",
     "output_type": "stream",
     "text": [
      "Dataset completo:  (768, 9)\n",
      "X shape:  (768, 8)\n",
      "Y shape:  (768,)\n"
     ]
    }
   ],
   "source": [
    "# Separando os dados de treino e teste\n",
    "x_train = dataset[:,:8]\n",
    "y_train = dataset[:, 8]\n",
    "\n",
    "# Shape dos dados de treino e teste\n",
    "print(\"Dataset completo: \", dataset.shape)\n",
    "print(\"X shape: \", x_train.shape)\n",
    "print(\"Y shape: \", y_train.shape)"
   ]
  },
  {
   "cell_type": "code",
   "execution_count": 6,
   "metadata": {},
   "outputs": [],
   "source": [
    "# Construindo o GridSearch\n",
    "model = KerasClassifier(build_fn=criar_model, verbose = 0)\n",
    "\n",
    "# Definindo os parâmetros para o GridSearch\n",
    "batchs = [20, 40, 60, 80, 100]\n",
    "epochs = [20, 50, 100]\n",
    "\n",
    "# Cria o dicionário\n",
    "param_grid = dict(batch_size = batchs, epochs = epochs)"
   ]
  },
  {
   "cell_type": "code",
   "execution_count": 7,
   "metadata": {},
   "outputs": [],
   "source": [
    "# Definindo o GridSearch\n",
    "grid = GridSearchCV(estimator = model, param_grid = param_grid)\n",
    "\n",
    "# Executando o GridSearch\n",
    "grid_result = grid.fit(x_train, y_train)"
   ]
  },
  {
   "cell_type": "code",
   "execution_count": 18,
   "metadata": {},
   "outputs": [
    {
     "name": "stdout",
     "output_type": "stream",
     "text": [
      "Melhor score 0.720\n",
      "Parâmetros utilizados {'batch_size': 20, 'epochs': 100}\n"
     ]
    }
   ],
   "source": [
    "# Exibindo o melhor modelo\n",
    "print(\"Melhor score %.3f\" % (grid_result.best_score_))\n",
    "print(\"Parâmetros utilizados {0}\".format(grid_result.best_params_))"
   ]
  },
  {
   "cell_type": "markdown",
   "metadata": {},
   "source": [
    "Utilizando 20 batchs e 100 epochs consegui atingir o melhor modelo com os parâmetros experimentados."
   ]
  },
  {
   "cell_type": "code",
   "execution_count": 17,
   "metadata": {},
   "outputs": [
    {
     "name": "stdout",
     "output_type": "stream",
     "text": [
      "Média: 0.684 - Desvio padrão: 0.036 - Parâmetros: {'batch_size': 20, 'epochs': 20}\n",
      "Média: 0.715 - Desvio padrão: 0.029 - Parâmetros: {'batch_size': 20, 'epochs': 50}\n",
      "Média: 0.720 - Desvio padrão: 0.044 - Parâmetros: {'batch_size': 20, 'epochs': 100}\n",
      "Média: 0.686 - Desvio padrão: 0.030 - Parâmetros: {'batch_size': 40, 'epochs': 20}\n",
      "Média: 0.704 - Desvio padrão: 0.033 - Parâmetros: {'batch_size': 40, 'epochs': 50}\n",
      "Média: 0.706 - Desvio padrão: 0.040 - Parâmetros: {'batch_size': 40, 'epochs': 100}\n",
      "Média: 0.688 - Desvio padrão: 0.034 - Parâmetros: {'batch_size': 60, 'epochs': 20}\n",
      "Média: 0.689 - Desvio padrão: 0.025 - Parâmetros: {'batch_size': 60, 'epochs': 50}\n",
      "Média: 0.710 - Desvio padrão: 0.051 - Parâmetros: {'batch_size': 60, 'epochs': 100}\n",
      "Média: 0.680 - Desvio padrão: 0.025 - Parâmetros: {'batch_size': 80, 'epochs': 20}\n",
      "Média: 0.691 - Desvio padrão: 0.025 - Parâmetros: {'batch_size': 80, 'epochs': 50}\n",
      "Média: 0.703 - Desvio padrão: 0.039 - Parâmetros: {'batch_size': 80, 'epochs': 100}\n",
      "Média: 0.655 - Desvio padrão: 0.037 - Parâmetros: {'batch_size': 100, 'epochs': 20}\n",
      "Média: 0.695 - Desvio padrão: 0.019 - Parâmetros: {'batch_size': 100, 'epochs': 50}\n",
      "Média: 0.703 - Desvio padrão: 0.011 - Parâmetros: {'batch_size': 100, 'epochs': 100}\n"
     ]
    }
   ],
   "source": [
    "# Exibindo o resultado de todas as combinações\n",
    "means = grid_result.cv_results_['mean_test_score']\n",
    "stds = grid_result.cv_results_['std_test_score']\n",
    "params = grid_result.cv_results_['params']\n",
    "\n",
    "for mean, stdev, param in zip(means, stds, params):\n",
    "    print(\"Média: %.3f - Desvio padrão: %.3f - Parâmetros: %r\" % (mean, stdev, param))"
   ]
  }
 ],
 "metadata": {
  "kernelspec": {
   "display_name": "Python 3",
   "language": "python",
   "name": "python3"
  },
  "language_info": {
   "codemirror_mode": {
    "name": "ipython",
    "version": 3
   },
   "file_extension": ".py",
   "mimetype": "text/x-python",
   "name": "python",
   "nbconvert_exporter": "python",
   "pygments_lexer": "ipython3",
   "version": "3.8.3"
  }
 },
 "nbformat": 4,
 "nbformat_minor": 4
}
